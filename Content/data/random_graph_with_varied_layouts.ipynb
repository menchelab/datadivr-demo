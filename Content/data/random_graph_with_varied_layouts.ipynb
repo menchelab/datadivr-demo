{
 "cells": [
  {
   "cell_type": "code",
   "execution_count": 28,
   "metadata": {},
   "outputs": [],
   "source": [
    "import networkx as nx\n",
    "import numpy as np"
   ]
  },
  {
   "cell_type": "code",
   "execution_count": 29,
   "metadata": {},
   "outputs": [
    {
     "data": {
      "text/plain": [
       "4538"
      ]
     },
     "execution_count": 29,
     "metadata": {},
     "output_type": "execute_result"
    }
   ],
   "source": [
    "G = nx.fast_gnp_random_graph(3000, 0.001)\n",
    "G.number_of_edges()"
   ]
  },
  {
   "cell_type": "code",
   "execution_count": 30,
   "metadata": {},
   "outputs": [],
   "source": [
    "# Will take a few minutes for larger graphs. \n",
    "spring_pos = nx.spring_layout(G, dim=3)\n",
    "spectral_pos =  nx.spectral_layout(G, dim=3)\n",
    "random_pos = nx.spring_layout(G, dim=3)\n",
    "circular_pos = nx.circular_layout(G, dim=3)"
   ]
  },
  {
   "cell_type": "code",
   "execution_count": 31,
   "metadata": {},
   "outputs": [],
   "source": [
    "output_edges = [list(g) + [255, 255, 255, 255] for g in G.edges()]\n",
    "layout_names = [\"spring\", \"spectral\", \"random\", \"circular\"]\n",
    "for i, pos in enumerate([spring_pos, spectral_pos, random_pos, circular_pos]):\n",
    "    table = np.array([np.concatenate([pos[x], np.array([255, 255, 255, 255, x])], axis=0) for x in pos.keys()])\n",
    "    # Positions are given in the unit sphere centered at 0, but we need sphere of dim 0.5 centered at 0.5\n",
    "    table[:,0:3] = table[:,0:3] * 0.5 + 0.5\n",
    "    \n",
    "    np.savetxt('layouts/%s_test.csv' % layout_names[i], table, delimiter=',', fmt=['%5.5f','%5.5f','%5.5f','%d','%d','%d','%d','%d'])\n",
    "    np.savetxt('links/%s_test_edges.csv'% layout_names[i] , output_edges, delimiter=',', fmt='%d')\n",
    "    "
   ]
  },
  {
   "cell_type": "code",
   "execution_count": 32,
   "metadata": {},
   "outputs": [],
   "source": [
    "table = [np.concatenate([pos[x], np.array([255, 255, 255, 255, x])], axis=0) for x in pos.keys()]\n",
    "np.savetxt('/tmp/test.csv', table, delimiter=',', fmt=['%5.5f'] * 3 + ['%d'] * 5)"
   ]
  },
  {
   "cell_type": "code",
   "execution_count": 33,
   "metadata": {},
   "outputs": [],
   "source": [
    "output_edges = [list(g) + [255, 255, 255, 255] for g in G.edges()]\n",
    "np.savetxt('/tmp/test_edges.csv', output_edges, delimiter=',', fmt='%d')"
   ]
  }
 ],
 "metadata": {
  "kernelspec": {
   "display_name": "Python 3",
   "language": "python",
   "name": "python3"
  },
  "language_info": {
   "codemirror_mode": {
    "name": "ipython",
    "version": 3
   },
   "file_extension": ".py",
   "mimetype": "text/x-python",
   "name": "python",
   "nbconvert_exporter": "python",
   "pygments_lexer": "ipython3",
   "version": "3.6.8"
  }
 },
 "nbformat": 4,
 "nbformat_minor": 2
}
