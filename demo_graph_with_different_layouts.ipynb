{
 "cells": [
  {
   "cell_type": "markdown",
   "metadata": {},
   "source": [
    "# Demo: randomly generated graph with multiple layouts.\n",
    "\n",
    "This notebook uses networkx to generate moderately-sized 1500-node graph with about 3000 edges. This graph is then laid out in several ways:\n",
    "* Spring layout\n",
    "* Spectral layout\n",
    "* Randomly\n",
    "* In a circular sine wave\n",
    "\n",
    "The resulting csv files are written to the correct locations in the DataDiVR project for immediate viewing.\n",
    "\n",
    "The notebook assumes that the DataDiVR executable + supporting files and the github project with this notebook were unpacked/cloned into the same parent directory. This is *strongly recommended*."
   ]
  },
  {
   "cell_type": "code",
   "execution_count": 14,
   "metadata": {},
   "outputs": [
    {
     "name": "stdout",
     "output_type": "stream",
     "text": [
      "/Users/eiofinova/Projects/DataDiVR\n",
      "/Users/eiofinova/Projects/DataDiVR/viveNet/Content/data/layouts\n",
      "/Users/eiofinova/Projects/DataDiVR/viveNet/Content/data/links\n"
     ]
    }
   ],
   "source": [
    "import math\n",
    "import numpy as np\n",
    "import networkx as nx\n",
    "import os\n",
    "\n",
    "DATADIVR_PATH = os.path.realpath(os.path.join(os.path.dirname(os.getcwd()), \"DataDiVR\"))\n",
    "LAYOUTS_DIR = os.path.join(DATADIVR_PATH, \"viveNet/Content/data/layouts\")\n",
    "LINKS_DIR = os.path.join(DATADIVR_PATH, \"viveNet/Content/data/links\")\n",
    "\n",
    "print(DATADIVR_PATH)\n",
    "print(LAYOUTS_DIR)\n",
    "print(LINKS_DIR)"
   ]
  },
  {
   "cell_type": "markdown",
   "metadata": {},
   "source": [
    "## Create a random graph with ~3000 edges"
   ]
  },
  {
   "cell_type": "code",
   "execution_count": 9,
   "metadata": {},
   "outputs": [
    {
     "data": {
      "text/plain": [
       "3250"
      ]
     },
     "execution_count": 9,
     "metadata": {},
     "output_type": "execute_result"
    }
   ],
   "source": [
    "G = nx.fast_gnp_random_graph(1500, 0.003)\n",
    "G.number_of_edges()"
   ]
  },
  {
   "cell_type": "markdown",
   "metadata": {},
   "source": [
    "## Lay out the nodes using several different algorithms.\n",
    "\n",
    "Documentation and full list of options on [NetworkX website](https://networkx.github.io/documentation/stable/reference/drawing.html#module-networkx.drawing.layout)."
   ]
  },
  {
   "cell_type": "code",
   "execution_count": 10,
   "metadata": {},
   "outputs": [],
   "source": [
    "# Will take a few minutes for larger graphs. \n",
    "spring_pos = nx.spring_layout(G, dim=3)\n",
    "spectral_pos =  nx.spectral_layout(G, dim=3)\n",
    "random_pos = nx.spring_layout(G, dim=3)\n",
    "circular_pos = nx.circular_layout(G, dim=3)\n",
    "kamada_pos = nx.kamada_kawai_layout(G, dim=3)\n",
    "\n",
    "# The circular layout is pretty boring, it's basically just a circle of nodes.\n",
    "# Let's make it cooler by staggering the nodes along five phases a sine wave lying on a sphere.\n",
    "def calculate_z_coordinate(point):\n",
    "    x, y, z = point\n",
    "    z = 0.5 * math.sin(5 * math.atan(y/x))\n",
    "    normalizer = math.sqrt(x**2 + y**2 + z**2)\n",
    "    return(x/normalizer, y/normalizer, z/normalizer)\n",
    "\n",
    "circular_pos = {k: calculate_z_coordinate(v) for k, v in circular_pos.items()}"
   ]
  },
  {
   "cell_type": "markdown",
   "metadata": {},
   "source": [
    "## Write the resulting layouts and edges to .csv files for the DataDiVR."
   ]
  },
  {
   "cell_type": "code",
   "execution_count": 15,
   "metadata": {},
   "outputs": [],
   "source": [
    "# The edges are [indicated as from_node, to_node, [color]] and thus are the same for each graph.\n",
    "output_edges = [list(e) for e in G.edges()]\n",
    "\n",
    "# Output each layout and a correspondingly-named set of edges in the format expected by the DataDiVR.\n",
    "layout_names = [\"spring\", \"spectral\", \"random\", \"circular\", \"kamada\"]\n",
    "for i, pos in enumerate([spring_pos, spectral_pos, random_pos, circular_pos, kamada_pos]):\n",
    "    # Add R, G, B, and alpha channels.\n",
    "    table = np.array([np.concatenate([pos[x], np.array([255, 255, 255, 255, x])], axis=0) for x in pos.keys()])\n",
    "    # Positions are given in the unit sphere centered at 0, but we need sphere of dim 0.5 centered at 0.5\n",
    "    # \n",
    "    table[:,0:3] = table[:,0:3] * 0.5 + 0.5\n",
    "    \n",
    "    np.savetxt(os.path.join(LAYOUTS_DIR, '%s_test.csv' % layout_names[i]), table, delimiter=',',\n",
    "               fmt=['%5.5f'] * 3 + ['%d'] * 5)\n",
    "    np.savetxt(os.path.join(LINKS_DIR, '%s_test_edges.csv'% layout_names[i]), output_edges,\n",
    "               delimiter=',', fmt='%d')\n",
    "    "
   ]
  }
 ],
 "metadata": {
  "kernelspec": {
   "display_name": "Python 3",
   "language": "python",
   "name": "python3"
  },
  "language_info": {
   "codemirror_mode": {
    "name": "ipython",
    "version": 3
   },
   "file_extension": ".py",
   "mimetype": "text/x-python",
   "name": "python",
   "nbconvert_exporter": "python",
   "pygments_lexer": "ipython3",
   "version": "3.6.8"
  }
 },
 "nbformat": 4,
 "nbformat_minor": 2
}
